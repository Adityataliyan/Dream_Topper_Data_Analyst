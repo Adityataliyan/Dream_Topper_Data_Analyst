{
 "cells": [
  {
   "cell_type": "markdown",
   "id": "a2598d0f-c2bb-4210-b3aa-210c4d62dea4",
   "metadata": {},
   "source": [
    "### Write a function that accepts three numbers as arguments and returns their average.\n"
   ]
  },
  {
   "cell_type": "code",
   "execution_count": 2,
   "id": "6b855bb4-b3dd-4398-8510-1b2ad9ac4665",
   "metadata": {},
   "outputs": [
    {
     "name": "stdout",
     "output_type": "stream",
     "text": [
      "16.666666666666668\n"
     ]
    }
   ],
   "source": [
    "def sum(a,b,c):\n",
    "    print((a+b+c)/3)\n",
    "\n",
    "sum(10,20,20)\n"
   ]
  },
  {
   "cell_type": "markdown",
   "id": "1cd2a1e7-b77d-4b88-8d61-0b72ad091919",
   "metadata": {},
   "source": [
    "### Create a function that prints a person's details (name, age, city) using default arguments ."
   ]
  },
  {
   "cell_type": "code",
   "execution_count": 6,
   "id": "f4b660a4-d9ad-4e3d-911f-bdbf7f2d0ec1",
   "metadata": {},
   "outputs": [
    {
     "name": "stdout",
     "output_type": "stream",
     "text": [
      "Hello,Dev.Your are 21 year old. You belong to Meerut.\n"
     ]
    }
   ],
   "source": [
    "def details(name=\"Aditya\",age=20,city=\"Meerut\"):\n",
    "    print(f\"Hello,{name}.Your are {age} year old. You belong to {city}.\")\n",
    "\n",
    "details(\"Dev\",21)"
   ]
  },
  {
   "cell_type": "markdown",
   "id": "ef0cd958-02b5-4d16-b8a1-98f22f39e463",
   "metadata": {},
   "source": [
    "### Write a function that calculates the volume of a box (length, width, height) with default values for width and height.\n"
   ]
  },
  {
   "cell_type": "code",
   "execution_count": 7,
   "id": "ce1b854b-c443-4907-b703-c34d23f88bce",
   "metadata": {},
   "outputs": [
    {
     "name": "stdout",
     "output_type": "stream",
     "text": [
      "30000\n"
     ]
    }
   ],
   "source": [
    "def volume(l,w=20,h=30):\n",
    "    print(l*w*h)\n",
    "\n",
    "volume(20,50)"
   ]
  },
  {
   "cell_type": "markdown",
   "id": "02d78f6e-c517-4006-9674-1a36999876a7",
   "metadata": {},
   "source": [
    "### Create a function that accepts a list of numbers and returns the largest number"
   ]
  },
  {
   "cell_type": "code",
   "execution_count": 5,
   "id": "82d48fe3-1763-4013-a715-63fe477a453c",
   "metadata": {},
   "outputs": [
    {
     "name": "stdout",
     "output_type": "stream",
     "text": [
      "12\n"
     ]
    }
   ],
   "source": [
    "def list(a,b,c):\n",
    "    if(a>b and a>c):\n",
    "        print(a)\n",
    "    elif(b>c):\n",
    "        print(b)\n",
    "    else:\n",
    "        print(c)\n",
    "\n",
    "\n",
    "list (10,12,3)"
   ]
  },
  {
   "cell_type": "markdown",
   "id": "7b952605-0adc-42fa-aea0-e30257cb6e07",
   "metadata": {},
   "source": [
    "### Write a function that takes two numbers as positional arguments and prints their sum.\n"
   ]
  },
  {
   "cell_type": "code",
   "execution_count": 1,
   "id": "3d2108a9-6372-4b95-a05d-9ef5443b4e6b",
   "metadata": {},
   "outputs": [
    {
     "name": "stdout",
     "output_type": "stream",
     "text": [
      "30\n"
     ]
    }
   ],
   "source": [
    "def add(a,b):\n",
    "    retune= a+b\n",
    "    print(retune)\n",
    "\n",
    "add(10,20)"
   ]
  },
  {
   "cell_type": "markdown",
   "id": "70c966ce-9eec-4c11-98ce-c42de4babcb1",
   "metadata": {},
   "source": [
    "### Create a function that accepts keyword arguments to print a formatted message.\n"
   ]
  },
  {
   "cell_type": "code",
   "execution_count": 8,
   "id": "c0989655-0aaa-4651-bfa7-6f27a768a4a0",
   "metadata": {},
   "outputs": [
    {
     "name": "stdout",
     "output_type": "stream",
     "text": [
      "Hello Aditya\n"
     ]
    }
   ],
   "source": [
    "def name(name):\n",
    "    print(f\"Hello {name}\")\n",
    "\n",
    "name(\"Aditya\")"
   ]
  },
  {
   "cell_type": "markdown",
   "id": "9b469c08-4e1c-46df-bb13-2387d2729cc2",
   "metadata": {},
   "source": [
    "### Write a function that accepts keyword arguments for a student's name and grade, and prints them"
   ]
  },
  {
   "cell_type": "code",
   "execution_count": 11,
   "id": "6e8423bb-c9e1-405c-a6ab-85686f77f8e7",
   "metadata": {},
   "outputs": [
    {
     "name": "stdout",
     "output_type": "stream",
     "text": [
      "Student Name:Aditya\n",
      "Grade = A\n"
     ]
    }
   ],
   "source": [
    "def student (name,grade):\n",
    "    print(f\"Student Name:{name}\")\n",
    "    print(f\"Grade = {grade}\")\n",
    "\n",
    "student(\"Aditya\",\"A\")"
   ]
  },
  {
   "cell_type": "markdown",
   "id": "0a8b4907-e708-4536-b177-a2def5d3ceba",
   "metadata": {},
   "source": [
    "### Create a function that returns the total cost of items with an optional discount applied (using default arguments)."
   ]
  },
  {
   "cell_type": "code",
   "execution_count": 12,
   "id": "674f2fe8-61eb-4f9e-b682-db0edcb34f55",
   "metadata": {},
   "outputs": [
    {
     "ename": "SyntaxError",
     "evalue": "invalid syntax (328885958.py, line 2)",
     "output_type": "error",
     "traceback": [
      "\u001b[1;36m  Cell \u001b[1;32mIn[12], line 2\u001b[1;36m\u001b[0m\n\u001b[1;33m    total amount= items-(items*discount)\u001b[0m\n\u001b[1;37m          ^\u001b[0m\n\u001b[1;31mSyntaxError\u001b[0m\u001b[1;31m:\u001b[0m invalid syntax\n"
     ]
    }
   ],
   "source": [
    "def calculate(items,discount=0):\n",
    "    total amount= items-(items*discount)\n",
    "    print(total amount)\n",
    "\n",
    "calculate(100,5)"
   ]
  },
  {
   "cell_type": "code",
   "execution_count": null,
   "id": "30e197c3-6916-4ac5-a1c4-2a13085241cf",
   "metadata": {},
   "outputs": [],
   "source": []
  }
 ],
 "metadata": {
  "kernelspec": {
   "display_name": "Python 3 (ipykernel)",
   "language": "python",
   "name": "python3"
  },
  "language_info": {
   "codemirror_mode": {
    "name": "ipython",
    "version": 3
   },
   "file_extension": ".py",
   "mimetype": "text/x-python",
   "name": "python",
   "nbconvert_exporter": "python",
   "pygments_lexer": "ipython3",
   "version": "3.12.6"
  }
 },
 "nbformat": 4,
 "nbformat_minor": 5
}
