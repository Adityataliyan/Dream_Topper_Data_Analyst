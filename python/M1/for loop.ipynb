{
 "cells": [
  {
   "cell_type": "markdown",
   "id": "406ddb42-d136-4cd1-9398-163d04878cb4",
   "metadata": {},
   "source": [
    "# For Loop"
   ]
  },
  {
   "cell_type": "markdown",
   "id": "f6e4a2a7-0567-4f32-ad02-3b79790134e6",
   "metadata": {},
   "source": [
    "### 1. Write a program to print the number form 1to 10 using a for loop"
   ]
  },
  {
   "cell_type": "code",
   "execution_count": 2,
   "id": "6baa67ee-2ad7-47c0-ab16-baea41328f2c",
   "metadata": {},
   "outputs": [
    {
     "name": "stdout",
     "output_type": "stream",
     "text": [
      "1\n",
      "2\n",
      "3\n",
      "4\n",
      "5\n",
      "6\n",
      "7\n",
      "8\n",
      "9\n",
      "10\n"
     ]
    }
   ],
   "source": [
    "for i in range(1,11):\n",
    "     print(i)"
   ]
  },
  {
   "cell_type": "markdown",
   "id": "e8db1d29-12fa-46ed-a357-49806b271796",
   "metadata": {},
   "source": [
    "### 2. Create a program that prints all even number from 1 to 20 using a for loop."
   ]
  },
  {
   "cell_type": "code",
   "execution_count": 4,
   "id": "a5fe26d7-3f9a-4cd3-8e93-e0ee14155874",
   "metadata": {},
   "outputs": [
    {
     "name": "stdout",
     "output_type": "stream",
     "text": [
      "2\n",
      "4\n",
      "6\n",
      "8\n",
      "10\n",
      "12\n",
      "14\n",
      "16\n",
      "18\n",
      "20\n"
     ]
    }
   ],
   "source": [
    "for i in range(2,21,2):\n",
    "    print(i)"
   ]
  },
  {
   "cell_type": "markdown",
   "id": "a08c8f61-d96a-470e-bbe1-85ea08886b80",
   "metadata": {},
   "source": [
    "### 3. Write a program to calculate the sum of the  first 10 natural numbers."
   ]
  },
  {
   "cell_type": "code",
   "execution_count": 6,
   "id": "3c3c53e1-0d61-4378-bcb8-53d9705977c0",
   "metadata": {},
   "outputs": [
    {
     "name": "stdout",
     "output_type": "stream",
     "text": [
      "sum: 55\n"
     ]
    }
   ],
   "source": [
    "total=0\n",
    "for i in range(1,11):\n",
    "    total+= i\n",
    "print(\"sum:\",total)"
   ]
  },
  {
   "cell_type": "markdown",
   "id": "a17cb927-3f7e-4cb8-92da-bdcce67443d6",
   "metadata": {},
   "source": [
    "### 4. Create a program to print the elements of a list using a for loop."
   ]
  },
  {
   "cell_type": "code",
   "execution_count": 7,
   "id": "b34fd60b-3d44-4943-b090-25ea65c5248d",
   "metadata": {},
   "outputs": [
    {
     "name": "stdout",
     "output_type": "stream",
     "text": [
      "Banana\n",
      "Apple\n",
      "Strawberry\n",
      "Avocado\n",
      "Pineapple\n"
     ]
    }
   ],
   "source": [
    "fruits =[\"Banana\", \"Apple\", \"Strawberry\", \"Avocado\", \"Pineapple\",]\n",
    "for fruit in fruits:\n",
    "    print(fruit)"
   ]
  },
  {
   "cell_type": "markdown",
   "id": "7a890305-cc58-48a9-b005-e243d2dd409d",
   "metadata": {},
   "source": [
    "### 5. WAP to reverse a string usiing a for loop ."
   ]
  },
  {
   "cell_type": "code",
   "execution_count": 9,
   "id": "caa0e8be-506f-4bb6-8a97-76824954d06a",
   "metadata": {},
   "outputs": [
    {
     "name": "stdout",
     "output_type": "stream",
     "text": [
      "aytidA \n"
     ]
    }
   ],
   "source": [
    "x = \"Aditya\"\n",
    "y = \" \"\n",
    "for i in x:\n",
    "    y =i+y\n",
    "print(y)"
   ]
  },
  {
   "cell_type": "markdown",
   "id": "eed1766a-fd3f-47d2-8c98-d147c4fa9dc5",
   "metadata": {},
   "source": [
    "### 6. Create a program to print the multiplication table of 5 using for loop."
   ]
  },
  {
   "cell_type": "code",
   "execution_count": 10,
   "id": "64f16cb6-488c-4625-b878-23e715b200b7",
   "metadata": {},
   "outputs": [
    {
     "name": "stdout",
     "output_type": "stream",
     "text": [
      "5\n",
      "10\n",
      "15\n",
      "20\n",
      "25\n",
      "30\n",
      "35\n",
      "40\n",
      "45\n",
      "50\n"
     ]
    }
   ],
   "source": [
    "for i in range (5,51,5):\n",
    "    print(i)"
   ]
  },
  {
   "cell_type": "markdown",
   "id": "f5a525c0-5e50-422a-8fc8-7e077781c90a",
   "metadata": {},
   "source": [
    "### 7. WAP to find the factorial of a number using a for loop."
   ]
  },
  {
   "cell_type": "code",
   "execution_count": null,
   "id": "f4bbf1b8-90b2-4161-bd75-a598cbda6d89",
   "metadata": {},
   "outputs": [],
   "source": [
    "x"
   ]
  },
  {
   "cell_type": "markdown",
   "id": "19b89e10-5700-45de-9460-c4687c22ff92",
   "metadata": {},
   "source": [
    "### 8. Use a for loop to print the numbers from 10 down to 1 in reverse order."
   ]
  },
  {
   "cell_type": "code",
   "execution_count": 16,
   "id": "64316ec9-47e9-45ec-9d40-da2b5b3f1fc0",
   "metadata": {},
   "outputs": [
    {
     "name": "stdout",
     "output_type": "stream",
     "text": [
      "10\n",
      "9\n",
      "8\n",
      "7\n",
      "6\n",
      "5\n",
      "4\n",
      "3\n",
      "2\n",
      "1\n"
     ]
    }
   ],
   "source": [
    "\n",
    "for i in range(10,0, -1):\n",
    "    print(i)"
   ]
  }
 ],
 "metadata": {
  "kernelspec": {
   "display_name": "Python 3 (ipykernel)",
   "language": "python",
   "name": "python3"
  },
  "language_info": {
   "codemirror_mode": {
    "name": "ipython",
    "version": 3
   },
   "file_extension": ".py",
   "mimetype": "text/x-python",
   "name": "python",
   "nbconvert_exporter": "python",
   "pygments_lexer": "ipython3",
   "version": "3.12.6"
  }
 },
 "nbformat": 4,
 "nbformat_minor": 5
}
