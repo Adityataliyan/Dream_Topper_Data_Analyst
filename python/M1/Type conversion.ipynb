{
 "cells": [
  {
   "cell_type": "markdown",
   "id": "045e7310-c5c3-4aaa-a40f-be7c7e2dcf54",
   "metadata": {},
   "source": [
    "### 1. Convert an integer to a string and concatenate it with another string.\n"
   ]
  },
  {
   "cell_type": "code",
   "execution_count": 4,
   "id": "3b8c0ef7-11a7-4f8b-b3cd-d4110b0b6f8d",
   "metadata": {},
   "outputs": [
    {
     "name": "stdout",
     "output_type": "stream",
     "text": [
      "<class 'int'>\n",
      "<class 'str'>\n"
     ]
    }
   ],
   "source": [
    "X=24\n",
    "print(type(X))\n",
    "Y=str(X)\n",
    "print(type(Y))\n"
   ]
  },
  {
   "cell_type": "markdown",
   "id": "8bfcdd67-696b-4ee7-9624-4f857feddd33",
   "metadata": {},
   "source": [
    "### 2. Write a program to convert a float to an integer.\n"
   ]
  },
  {
   "cell_type": "code",
   "execution_count": 6,
   "id": "f7431b9f-be29-4fee-8638-692422bf4121",
   "metadata": {},
   "outputs": [
    {
     "name": "stdout",
     "output_type": "stream",
     "text": [
      "<class 'float'>\n",
      "<class 'int'>\n"
     ]
    }
   ],
   "source": [
    "X=34.5\n",
    "print(type(X))\n",
    "Y=int(X)\n",
    "print(type(Y))"
   ]
  },
  {
   "cell_type": "markdown",
   "id": "dac756aa-b450-497e-8b05-916cd1d1f74d",
   "metadata": {},
   "source": [
    "### 3. Convert a list to a tuple and print the result.\n"
   ]
  },
  {
   "cell_type": "code",
   "execution_count": 7,
   "id": "b0b97049-89ad-4fa7-bfc3-8a5670ac3975",
   "metadata": {},
   "outputs": [
    {
     "name": "stdout",
     "output_type": "stream",
     "text": [
      "(1, 2, 3, 4, 5)\n"
     ]
    }
   ],
   "source": [
    "X= [1, 2, 3, 4, 5]\n",
    "Y = tuple(X)\n",
    "print(Y)\n"
   ]
  },
  {
   "cell_type": "markdown",
   "id": "f6f7134c-bc7d-4f6f-becd-dd0ac9c9fb22",
   "metadata": {},
   "source": [
    "### 4. Write a program that converts a string \"3.14\" into a float."
   ]
  },
  {
   "cell_type": "code",
   "execution_count": 8,
   "id": "800c1e62-4138-4f5a-be2a-7f7aae74ae35",
   "metadata": {},
   "outputs": [
    {
     "name": "stdout",
     "output_type": "stream",
     "text": [
      "<class 'str'>\n",
      "<class 'float'>\n"
     ]
    }
   ],
   "source": [
    "X=str(3.14)\n",
    "print(type(X))\n",
    "Y=float(X)\n",
    "print(type(Y))"
   ]
  },
  {
   "cell_type": "markdown",
   "id": "b44a99a3-57a2-4ddd-8a83-ae755c1f83ae",
   "metadata": {},
   "source": [
    "### 5. Convert a boolean True into an integer and print the result"
   ]
  },
  {
   "cell_type": "code",
   "execution_count": 11,
   "id": "5c034d97-6c6a-4c56-a5c0-90fe10fed018",
   "metadata": {},
   "outputs": [
    {
     "name": "stdout",
     "output_type": "stream",
     "text": [
      "<class 'bool'>\n",
      "<class 'int'>\n"
     ]
    }
   ],
   "source": [
    "X=True\n",
    "print(type(X))\n",
    "Y=int(X)\n",
    "print(type(Y))"
   ]
  },
  {
   "cell_type": "markdown",
   "id": "06660655-770d-4b63-9a61-285849561988",
   "metadata": {},
   "source": [
    "### 6. Write a program that converts a set into a list and prints both."
   ]
  },
  {
   "cell_type": "code",
   "execution_count": 15,
   "id": "64114abe-1200-4d2f-a79a-9246ad71083a",
   "metadata": {},
   "outputs": [
    {
     "name": "stdout",
     "output_type": "stream",
     "text": [
      "(1, 2, 3, 4, 5)\n",
      "<class 'tuple'>\n",
      "[1, 2, 3, 4, 5]\n",
      "<class 'list'>\n"
     ]
    }
   ],
   "source": [
    "X=(1,2,3,4,5)\n",
    "Y=list(X)\n",
    "print(X)\n",
    "print(type(X))\n",
    "print(Y)\n",
    "print(type(Y))"
   ]
  },
  {
   "cell_type": "markdown",
   "id": "f45682b1-079d-4ce9-9c4d-276383f82557",
   "metadata": {},
   "source": [
    "### 7. Convert a dictionary’s keys into a list and print the result"
   ]
  },
  {
   "cell_type": "code",
   "execution_count": 18,
   "id": "54e2a0d7-7adb-4487-87eb-a45e97646e17",
   "metadata": {},
   "outputs": [
    {
     "name": "stdout",
     "output_type": "stream",
     "text": [
      "<class 'dict'>\n",
      "<class 'list'>\n",
      "['a', 'b', 'c']\n"
     ]
    }
   ],
   "source": [
    "X={'a':1,'b':2,'c':3}\n",
    "print(type(X))\n",
    "Y=list(X)\n",
    "print(type(Y))\n",
    "print(Y)"
   ]
  },
  {
   "cell_type": "markdown",
   "id": "59367e0e-c104-4b82-8dbf-b60c1e1b7090",
   "metadata": {},
   "source": [
    "### 8. Write a program to convert a number into a string with two decimal places"
   ]
  },
  {
   "cell_type": "code",
   "execution_count": null,
   "id": "fb35200c-2f5f-40b0-8d6c-e0cbeba95693",
   "metadata": {},
   "outputs": [],
   "source": []
  }
 ],
 "metadata": {
  "kernelspec": {
   "display_name": "Python 3 (ipykernel)",
   "language": "python",
   "name": "python3"
  },
  "language_info": {
   "codemirror_mode": {
    "name": "ipython",
    "version": 3
   },
   "file_extension": ".py",
   "mimetype": "text/x-python",
   "name": "python",
   "nbconvert_exporter": "python",
   "pygments_lexer": "ipython3",
   "version": "3.12.6"
  }
 },
 "nbformat": 4,
 "nbformat_minor": 5
}
