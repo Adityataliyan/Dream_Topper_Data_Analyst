{
 "cells": [
  {
   "cell_type": "markdown",
   "id": "f1d4aa61-c7f3-4490-a09b-3ba6eec95b74",
   "metadata": {},
   "source": [
    "### Create a BMI Calculator"
   ]
  },
  {
   "cell_type": "code",
   "execution_count": 24,
   "id": "cfb8f3b8-e335-4243-b6c0-385a8684c00a",
   "metadata": {},
   "outputs": [
    {
     "name": "stdin",
     "output_type": "stream",
     "text": [
      "Enter the you weight in kg : 68\n",
      "Enter the you hight in meters: 1.7\n"
     ]
    },
    {
     "name": "stdout",
     "output_type": "stream",
     "text": [
      "23.529411764705884\n",
      "Normal weight\n"
     ]
    }
   ],
   "source": [
    "weight=float(input(\"Enter the you weight in kg :\"))\n",
    "hight=float(input(\"Enter the you hight in meters:\"))\n",
    "bmi=weight/(hight**2)\n",
    "\n",
    "print(bmi)\n",
    "    \n",
    "if bmi < 18.5:\n",
    "        print( \"Underweight\")\n",
    "elif 18.5 <= bmi < 24.9:\n",
    "        print(\"Normal weight\")\n",
    "elif 25 <= bmi < 29.9:\n",
    "        print (\"Overweight\")\n",
    "else:\n",
    "        print (\"Obesity\")\n",
    "\n"
   ]
  },
  {
   "cell_type": "markdown",
   "id": "f1a8d98f-33ed-4930-a964-60b7de850a53",
   "metadata": {},
   "source": [
    "### Simple ATM Interface"
   ]
  },
  {
   "cell_type": "code",
   "execution_count": 10,
   "id": "110a2c0d-0308-40d0-8ab8-9345ad0c45a9",
   "metadata": {},
   "outputs": [
    {
     "name": "stdin",
     "output_type": "stream",
     "text": [
      "Enter the Your PIN 1234\n"
     ]
    },
    {
     "name": "stdout",
     "output_type": "stream",
     "text": [
      "Welcome\n",
      "1:Check Balance\n",
      "2:Withdraw\n",
      "3:Deposit\n",
      "4:Change PIN\n",
      "5:Transfer\n"
     ]
    },
    {
     "name": "stdin",
     "output_type": "stream",
     "text": [
      "Enter your choice: 3\n",
      "Enter Amount: 10000\n"
     ]
    }
   ],
   "source": [
    "valid_pin=\"1234\"\n",
    "pin=input(\"Enter the Your PIN\")\n",
    "\n",
    "if pin ==valid_pin:\n",
    "    print(\"Welcome\")\n",
    "\n",
    "    print(\"1:Check Balance\")\n",
    "    print(\"2:Withdraw\")\n",
    "    print(\"3:Deposit\")\n",
    "    print(\"4:Change PIN\")\n",
    "    print(\"5:Transfer\")\n",
    "    C=int(input(\"Enter your choice:\"))\n",
    "\n",
    "    if (C==1):\n",
    "        print(\"25000\")\n",
    "    elif (C==2):\n",
    "        Withdraw=input(\"Enter Amount:\")\n",
    "    elif (C==3):\n",
    "        Deposit=input(\"Enter Amount:\")\n",
    "    elif (C==4):\n",
    "        input(\"Enter Your Old PIN:\")\n",
    "        X= int(input(\"Enter New PIN:\"))\n",
    "        Y= int(input(\"Re-enter New PIN\"))\n",
    "        if(X==Y):\n",
    "            print(\"Your PIN is changed\")\n",
    "        else:\n",
    "            print(\"PIN Does not match\")\n",
    "        \n",
    "    elif (C==5):\n",
    "        input(\"Enter Account Number\")\n",
    "        input(\"Enter the Amount\")\n",
    "        print(\"Transfer is completed\")\n",
    "    else:\n",
    "        print(\"You Enter Worng Number\")\n",
    "\n",
    "else:\n",
    "    print(\"Wrong pin\")"
   ]
  },
  {
   "cell_type": "markdown",
   "id": "e052a218-eb4a-4868-b7b1-0cfaf94bb45b",
   "metadata": {},
   "source": [
    "### Even or Odd"
   ]
  },
  {
   "cell_type": "code",
   "execution_count": 19,
   "id": "547944d0-848f-4259-82f8-82a0750b355f",
   "metadata": {},
   "outputs": [
    {
     "name": "stdin",
     "output_type": "stream",
     "text": [
      "Enter the Number -11\n"
     ]
    },
    {
     "name": "stdout",
     "output_type": "stream",
     "text": [
      "-11.0 is a negative number.\n"
     ]
    }
   ],
   "source": [
    "number=float(input(\"Enter the Number\"))\n",
    "if number > 0:\n",
    "    print(f\"{number} is a positive number.\")\n",
    "elif number < 0:\n",
    "    print(f\"{number} is a negative number.\")\n",
    "else:\n",
    "    print(\"The number is zero.\")\n"
   ]
  },
  {
   "cell_type": "code",
   "execution_count": null,
   "id": "960ff051-4aa2-40fd-ae08-80a953e15231",
   "metadata": {},
   "outputs": [],
   "source": []
  }
 ],
 "metadata": {
  "kernelspec": {
   "display_name": "Python 3 (ipykernel)",
   "language": "python",
   "name": "python3"
  },
  "language_info": {
   "codemirror_mode": {
    "name": "ipython",
    "version": 3
   },
   "file_extension": ".py",
   "mimetype": "text/x-python",
   "name": "python",
   "nbconvert_exporter": "python",
   "pygments_lexer": "ipython3",
   "version": "3.12.6"
  }
 },
 "nbformat": 4,
 "nbformat_minor": 5
}
