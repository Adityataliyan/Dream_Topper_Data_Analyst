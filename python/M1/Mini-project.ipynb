{
 "cells": [
  {
   "cell_type": "code",
   "execution_count": 1,
   "id": "382a8ef8-7a0e-4292-ba0b-82e64cc19bc9",
   "metadata": {},
   "outputs": [
    {
     "name": "stdout",
     "output_type": "stream",
     "text": [
      "Welcome to the Number Guessing Game!\n",
      "Guess the secret number between 1 and 100.\n",
      "You have 5 attempts to guess the number correctly.\n"
     ]
    },
    {
     "name": "stdin",
     "output_type": "stream",
     "text": [
      "Enter your guess:  90\n"
     ]
    },
    {
     "name": "stdout",
     "output_type": "stream",
     "text": [
      "Your guess is too high.\n"
     ]
    },
    {
     "name": "stdin",
     "output_type": "stream",
     "text": [
      "Enter your guess:  76\n"
     ]
    },
    {
     "name": "stdout",
     "output_type": "stream",
     "text": [
      "Your guess is too high.\n"
     ]
    },
    {
     "name": "stdin",
     "output_type": "stream",
     "text": [
      "Enter your guess:  40\n"
     ]
    },
    {
     "name": "stdout",
     "output_type": "stream",
     "text": [
      "Your guess is too low.\n"
     ]
    },
    {
     "name": "stdin",
     "output_type": "stream",
     "text": [
      "Enter your guess:  50\n"
     ]
    },
    {
     "name": "stdout",
     "output_type": "stream",
     "text": [
      "Your guess is too low.\n"
     ]
    },
    {
     "name": "stdin",
     "output_type": "stream",
     "text": [
      "Enter your guess:  60\n"
     ]
    },
    {
     "name": "stdout",
     "output_type": "stream",
     "text": [
      "Your guess is too high.\n",
      "Sorry! You've used all 5 attempts. The correct number was 59.\n"
     ]
    }
   ],
   "source": [
    "import random\n",
    "\n",
    "def number_guessing_game():\n",
    "    secret_number = random.randint(1, 100)\n",
    "    \n",
    "    max_attempts = 5\n",
    "    \n",
    "    print(\"Welcome to the Number Guessing Game!\")\n",
    "    print(f\"Guess the secret number between 1 and 100.\")\n",
    "    print(f\"You have {max_attempts} attempts to guess the number correctly.\")\n",
    "    \n",
    "    attempts = 0\n",
    "    guessed_correctly = False\n",
    "    \n",
    "    while attempts < max_attempts and not guessed_correctly:\n",
    "        try:\n",
    "            user_guess = int(input(\"Enter your guess: \"))\n",
    "        except ValueError:\n",
    "            print(\"Please enter a valid number.\")\n",
    "            continue\n",
    "        \n",
    "        attempts += 1\n",
    "        \n",
    "        if user_guess < secret_number:\n",
    "            print(\"Your guess is too low.\")\n",
    "        elif user_guess > secret_number:\n",
    "            print(\"Your guess is too high.\")\n",
    "        else:\n",
    "            guessed_correctly = True\n",
    "            print(f\"Congratulations! You've guessed the number {secret_number} correctly!\")\n",
    "            print(f\"It took you {attempts} attempts to guess the right number.\")\n",
    "    \n",
    "    # If the user has run out of attempts\n",
    "    if not guessed_correctly:\n",
    "        print(f\"Sorry! You've used all {max_attempts} attempts. The correct number was {secret_number}.\")\n",
    "    \n",
    "# Call the function to start the game\n",
    "number_guessing_game()\n"
   ]
  },
  {
   "cell_type": "code",
   "execution_count": null,
   "id": "3500a2a7-1e7a-4b25-8038-1c4a48089ac3",
   "metadata": {},
   "outputs": [],
   "source": []
  }
 ],
 "metadata": {
  "kernelspec": {
   "display_name": "Python 3 (ipykernel)",
   "language": "python",
   "name": "python3"
  },
  "language_info": {
   "codemirror_mode": {
    "name": "ipython",
    "version": 3
   },
   "file_extension": ".py",
   "mimetype": "text/x-python",
   "name": "python",
   "nbconvert_exporter": "python",
   "pygments_lexer": "ipython3",
   "version": "3.12.6"
  }
 },
 "nbformat": 4,
 "nbformat_minor": 5
}
