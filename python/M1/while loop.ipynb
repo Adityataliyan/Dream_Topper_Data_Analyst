{
 "cells": [
  {
   "cell_type": "markdown",
   "id": "c9344892-ea5b-47f2-b335-d2146d691853",
   "metadata": {},
   "source": [
    "### 1. Write a program to print the numbers from 1 to 10 using a while loop."
   ]
  },
  {
   "cell_type": "code",
   "execution_count": 3,
   "id": "b8890ae9-2ffd-4a99-8fa3-b2af1013d015",
   "metadata": {},
   "outputs": [
    {
     "name": "stdout",
     "output_type": "stream",
     "text": [
      "1\n",
      "2\n",
      "3\n",
      "4\n",
      "5\n",
      "6\n",
      "7\n",
      "8\n",
      "9\n",
      "10\n"
     ]
    }
   ],
   "source": [
    "A = 1\n",
    "while(A<=10):\n",
    "    print(A)\n",
    "    A+= 1"
   ]
  },
  {
   "cell_type": "markdown",
   "id": "661c38e2-b7fe-4f30-8951-aea3109fe9ec",
   "metadata": {},
   "source": [
    "### 2. Create a program to find the sum of the first 10 even numbers using a while loop."
   ]
  },
  {
   "cell_type": "code",
   "execution_count": 6,
   "id": "3b061714-d2dc-486c-a980-f152b5da522a",
   "metadata": {},
   "outputs": [
    {
     "name": "stdout",
     "output_type": "stream",
     "text": [
      "Sum of numbers from 1 to 10 is: 55\n"
     ]
    }
   ],
   "source": [
    "n = 10\n",
    "sum_numbers = 0\n",
    "counter = 1\n",
    "while counter <= n:\n",
    "    sum_numbers += counter \n",
    "    counter += 1\n",
    "print(\"Sum of numbers from 1 to\", n, \"is:\", sum_numbers)\n"
   ]
  },
  {
   "cell_type": "markdown",
   "id": "e8cd6978-044d-4da2-992a-e897e2c683fb",
   "metadata": {},
   "source": [
    "### 3 Write a program that continues taking input from the user until they enter 'exit'."
   ]
  },
  {
   "cell_type": "code",
   "execution_count": 7,
   "id": "78a7778d-f769-42e6-b39f-3cbd2990d21a",
   "metadata": {},
   "outputs": [
    {
     "name": "stdin",
     "output_type": "stream",
     "text": [
      "Type 'exit' to continue:  exit\n"
     ]
    },
    {
     "name": "stdout",
     "output_type": "stream",
     "text": [
      "Thank you!\n"
     ]
    }
   ],
   "source": [
    "user_input = \"\"\n",
    "while user_input != \"exit\":\n",
    "    user_input = input(\"Type 'exit' to continue: \")\n",
    "print(\"Thank you!\")\n"
   ]
  },
  {
   "cell_type": "markdown",
   "id": "9bcee75f-d986-41af-ab68-e8bd55f53fc6",
   "metadata": {},
   "source": [
    "### 4. Use a while loop to reverse a number"
   ]
  },
  {
   "cell_type": "code",
   "execution_count": 8,
   "id": "8068ff47-111a-48dd-a5e7-2a5bc7dc68c1",
   "metadata": {},
   "outputs": [
    {
     "name": "stdout",
     "output_type": "stream",
     "text": [
      "10\n",
      "9\n",
      "8\n",
      "7\n",
      "6\n",
      "5\n",
      "4\n",
      "3\n",
      "2\n",
      "1\n"
     ]
    }
   ],
   "source": [
    "number = 10\n",
    "while number > 0:\n",
    "    print(number)\n",
    "    number -= 1 "
   ]
  },
  {
   "cell_type": "markdown",
   "id": "7434fdb4-51c3-4d21-a7d3-220681c27ab1",
   "metadata": {},
   "source": [
    "### 5. Write a program to calculate the sum of digits of a number using a while loop"
   ]
  },
  {
   "cell_type": "code",
   "execution_count": 11,
   "id": "61b60ca9-a015-4b6f-a5db-ccf0b9ed3f99",
   "metadata": {},
   "outputs": [
    {
     "name": "stdin",
     "output_type": "stream",
     "text": [
      "Enter the number 20\n"
     ]
    },
    {
     "name": "stdout",
     "output_type": "stream",
     "text": [
      "Sum of numbers from 1 to 20 is: 210\n"
     ]
    }
   ],
   "source": [
    "n = int(input(\"Enter the number\"))\n",
    "sum_numbers = 0\n",
    "counter = 1\n",
    "while counter <= n:\n",
    "    sum_numbers += counter \n",
    "    counter += 1\n",
    "print(\"Sum of numbers from 1 to\", n, \"is:\", sum_numbers)"
   ]
  },
  {
   "cell_type": "markdown",
   "id": "ecc1fba7-d492-4316-a7d5-8e6e4d458a84",
   "metadata": {},
   "source": [
    "### 6. Create a program that prints the Fibonacci series up to 10 terms using a while loop"
   ]
  },
  {
   "cell_type": "code",
   "execution_count": 15,
   "id": "b8e42784-0bdc-41ec-90e2-f587c9b2732b",
   "metadata": {},
   "outputs": [
    {
     "name": "stdout",
     "output_type": "stream",
     "text": [
      "Fibonacci Series up to 10 terms:\n",
      "0 1 1 2 3 5 8 13 21 34 "
     ]
    }
   ],
   "source": [
    "a, b = 0, 1\n",
    "count = 0\n",
    "terms = 10  \n",
    "\n",
    "print(\"Fibonacci Series up to\", terms, \"terms:\")\n",
    "while count < terms:\n",
    "    print(a, end=' ')\n",
    "\n",
    "    a, b = b, a + b\n",
    "    count += 1"
   ]
  },
  {
   "cell_type": "markdown",
   "id": "dc95e189-5324-4dd9-b9e0-bbbf391f7006",
   "metadata": {},
   "source": [
    "### 7. Write a program to check if a number is prime using a while loop.\n"
   ]
  },
  {
   "cell_type": "code",
   "execution_count": null,
   "id": "fb557df6-6d7f-444f-a898-e4c153c027b4",
   "metadata": {},
   "outputs": [],
   "source": []
  },
  {
   "cell_type": "markdown",
   "id": "3e6dcfb1-fa71-484c-98a7-5ee0142ad0ff",
   "metadata": {},
   "source": [
    "### 8. Use a while loop to count down from 10 to 1."
   ]
  },
  {
   "cell_type": "code",
   "execution_count": 7,
   "id": "60497d82-f354-400a-972f-8451cf438a6d",
   "metadata": {},
   "outputs": [
    {
     "name": "stdout",
     "output_type": "stream",
     "text": [
      "10\n",
      "9\n",
      "8\n",
      "7\n",
      "6\n",
      "5\n",
      "4\n",
      "3\n",
      "2\n",
      "1\n",
      "count down is complete\n"
     ]
    }
   ],
   "source": [
    "A=10\n",
    "while A>0:\n",
    "    print(A)\n",
    "    A-=1\n",
    "print(\"count down is complete\")\n"
   ]
  },
  {
   "cell_type": "code",
   "execution_count": null,
   "id": "c444b694-207d-4509-aa73-d10b16184e84",
   "metadata": {},
   "outputs": [],
   "source": []
  }
 ],
 "metadata": {
  "kernelspec": {
   "display_name": "Python 3 (ipykernel)",
   "language": "python",
   "name": "python3"
  },
  "language_info": {
   "codemirror_mode": {
    "name": "ipython",
    "version": 3
   },
   "file_extension": ".py",
   "mimetype": "text/x-python",
   "name": "python",
   "nbconvert_exporter": "python",
   "pygments_lexer": "ipython3",
   "version": "3.12.6"
  }
 },
 "nbformat": 4,
 "nbformat_minor": 5
}
